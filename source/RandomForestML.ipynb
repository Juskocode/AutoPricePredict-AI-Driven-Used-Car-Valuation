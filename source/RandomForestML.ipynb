{
 "cells": [
  {
   "cell_type": "code",
   "execution_count": 5,
   "id": "b5822889645ffbe1",
   "metadata": {
    "collapsed": false,
    "ExecuteTime": {
     "end_time": "2024-01-07T05:44:10.435766700Z",
     "start_time": "2024-01-07T05:44:10.126616900Z"
    }
   },
   "outputs": [],
   "source": [
    "# Import necessary libraries\n",
    "import pandas as pd\n",
    "from sklearn.metrics import r2_score"
   ]
  },
  {
   "cell_type": "code",
   "execution_count": 6,
   "id": "74fa84b86880fcd1",
   "metadata": {
    "collapsed": false,
    "ExecuteTime": {
     "end_time": "2024-01-07T05:44:10.500593500Z",
     "start_time": "2024-01-07T05:44:10.135595Z"
    }
   },
   "outputs": [],
   "source": [
    "# Load the datasets\n",
    "data = pd.read_csv('../DataSet/dataset.csv')\n",
    "#just_features = pd.read_csv('/home/freitas/ProjetoPraticoIA/DataSet/just_features.csv')"
   ]
  },
  {
   "cell_type": "code",
   "execution_count": 7,
   "id": "4fc8c8a83a561c24",
   "metadata": {
    "collapsed": false,
    "ExecuteTime": {
     "end_time": "2024-01-07T05:44:10.500593500Z",
     "start_time": "2024-01-07T05:44:10.158759400Z"
    }
   },
   "outputs": [],
   "source": [
    "# Prepare the data map the necessary parameters\n",
    "# Mapping for 'tipo'\n",
    "tipo_mapping = {'limousine': 0, 'coupe': 1, 'compacto': 2, 'kombi': 3, 'carrinha': 4, 'cabrio': 5, 'suv': 6, 'outro': 7}\n",
    "data['tipo'] = data['tipo'].map(tipo_mapping)\n",
    "\n",
    "# Mapping for 'caixa'\n",
    "caixa_mapping = {'manual': 0, 'automatica': 1}\n",
    "data['caixa'] = data['caixa'].map(caixa_mapping)\n",
    "\n",
    "#Mapping for 'com_danos'\n",
    "com_danos_mapping = {'nao': 0, 'sim': 1}\n",
    "data['com_danos'] = data['com_danos'].map(com_danos_mapping)\n",
    "\n",
    "# Mapping for 'combustivel'\n",
    "combustivel_mapping = {'gasolina': 0, 'diesel': 1, 'outro': 2}\n",
    "data['combustivel'] = data['combustivel'].map(combustivel_mapping)\n",
    "\n",
    "# Mapping for 'marca' (assuming 'marca' has too many unique values)\n",
    "marca_mapping = {marca: i for i, marca in enumerate(data['marca'].unique())}\n",
    "data['marca'] = data['marca'].map(marca_mapping)"
   ]
  },
  {
   "cell_type": "code",
   "execution_count": 8,
   "id": "f3764b655bcdac0d",
   "metadata": {
    "collapsed": false,
    "ExecuteTime": {
     "end_time": "2024-01-07T05:44:10.502588100Z",
     "start_time": "2024-01-07T05:44:10.168486800Z"
    }
   },
   "outputs": [
    {
     "data": {
      "text/plain": "                 id          tipo   ano_registo         caixa      potencia  \\\ncount  25000.000000  25000.000000  25000.000000  25000.000000  25000.000000   \nmean   49878.823840      2.282600   2006.577600      0.251480    137.546760   \nstd    28932.226902      1.830386      4.283129      0.433872    214.565586   \nmin        1.000000      0.000000   2000.000000      0.000000      3.000000   \n25%    24673.750000      0.000000   2003.000000      0.000000     90.000000   \n50%    49997.500000      2.000000   2006.000000      0.000000    122.000000   \n75%    75016.500000      3.000000   2010.000000      1.000000    163.000000   \nmax    99998.000000      7.000000   2017.000000      1.000000  16312.000000   \n\n                  km   combustivel         marca     com_danos          preco  \ncount   25000.000000  25000.000000  25000.000000  25000.000000   25000.000000  \nmean   121195.808000      0.431080      2.931400      0.087800    7876.264120  \nstd     41268.626786      0.530341      2.583951      0.283009   11657.351891  \nmin      5000.000000      0.000000      0.000000      0.000000       1.000000  \n25%     90900.000000      0.000000      1.000000      0.000000    2389.000000  \n50%    150100.000000      0.000000      2.000000      0.000000    5030.000000  \n75%    150600.000000      1.000000      5.000000      0.000000   10020.000000  \nmax    151000.000000      2.000000      9.000000      1.000000  745060.000000  ",
      "text/html": "<div>\n<style scoped>\n    .dataframe tbody tr th:only-of-type {\n        vertical-align: middle;\n    }\n\n    .dataframe tbody tr th {\n        vertical-align: top;\n    }\n\n    .dataframe thead th {\n        text-align: right;\n    }\n</style>\n<table border=\"1\" class=\"dataframe\">\n  <thead>\n    <tr style=\"text-align: right;\">\n      <th></th>\n      <th>id</th>\n      <th>tipo</th>\n      <th>ano_registo</th>\n      <th>caixa</th>\n      <th>potencia</th>\n      <th>km</th>\n      <th>combustivel</th>\n      <th>marca</th>\n      <th>com_danos</th>\n      <th>preco</th>\n    </tr>\n  </thead>\n  <tbody>\n    <tr>\n      <th>count</th>\n      <td>25000.000000</td>\n      <td>25000.000000</td>\n      <td>25000.000000</td>\n      <td>25000.000000</td>\n      <td>25000.000000</td>\n      <td>25000.000000</td>\n      <td>25000.000000</td>\n      <td>25000.000000</td>\n      <td>25000.000000</td>\n      <td>25000.000000</td>\n    </tr>\n    <tr>\n      <th>mean</th>\n      <td>49878.823840</td>\n      <td>2.282600</td>\n      <td>2006.577600</td>\n      <td>0.251480</td>\n      <td>137.546760</td>\n      <td>121195.808000</td>\n      <td>0.431080</td>\n      <td>2.931400</td>\n      <td>0.087800</td>\n      <td>7876.264120</td>\n    </tr>\n    <tr>\n      <th>std</th>\n      <td>28932.226902</td>\n      <td>1.830386</td>\n      <td>4.283129</td>\n      <td>0.433872</td>\n      <td>214.565586</td>\n      <td>41268.626786</td>\n      <td>0.530341</td>\n      <td>2.583951</td>\n      <td>0.283009</td>\n      <td>11657.351891</td>\n    </tr>\n    <tr>\n      <th>min</th>\n      <td>1.000000</td>\n      <td>0.000000</td>\n      <td>2000.000000</td>\n      <td>0.000000</td>\n      <td>3.000000</td>\n      <td>5000.000000</td>\n      <td>0.000000</td>\n      <td>0.000000</td>\n      <td>0.000000</td>\n      <td>1.000000</td>\n    </tr>\n    <tr>\n      <th>25%</th>\n      <td>24673.750000</td>\n      <td>0.000000</td>\n      <td>2003.000000</td>\n      <td>0.000000</td>\n      <td>90.000000</td>\n      <td>90900.000000</td>\n      <td>0.000000</td>\n      <td>1.000000</td>\n      <td>0.000000</td>\n      <td>2389.000000</td>\n    </tr>\n    <tr>\n      <th>50%</th>\n      <td>49997.500000</td>\n      <td>2.000000</td>\n      <td>2006.000000</td>\n      <td>0.000000</td>\n      <td>122.000000</td>\n      <td>150100.000000</td>\n      <td>0.000000</td>\n      <td>2.000000</td>\n      <td>0.000000</td>\n      <td>5030.000000</td>\n    </tr>\n    <tr>\n      <th>75%</th>\n      <td>75016.500000</td>\n      <td>3.000000</td>\n      <td>2010.000000</td>\n      <td>1.000000</td>\n      <td>163.000000</td>\n      <td>150600.000000</td>\n      <td>1.000000</td>\n      <td>5.000000</td>\n      <td>0.000000</td>\n      <td>10020.000000</td>\n    </tr>\n    <tr>\n      <th>max</th>\n      <td>99998.000000</td>\n      <td>7.000000</td>\n      <td>2017.000000</td>\n      <td>1.000000</td>\n      <td>16312.000000</td>\n      <td>151000.000000</td>\n      <td>2.000000</td>\n      <td>9.000000</td>\n      <td>1.000000</td>\n      <td>745060.000000</td>\n    </tr>\n  </tbody>\n</table>\n</div>"
     },
     "execution_count": 8,
     "metadata": {},
     "output_type": "execute_result"
    }
   ],
   "source": [
    "# Display the preprocessed data\n",
    "data.describe()"
   ]
  },
  {
   "cell_type": "code",
   "execution_count": 9,
   "id": "34716018a4db2173",
   "metadata": {
    "collapsed": false,
    "ExecuteTime": {
     "end_time": "2024-01-07T05:44:10.502588100Z",
     "start_time": "2024-01-07T05:44:10.195962600Z"
    }
   },
   "outputs": [],
   "source": [
    "y = data['preco']"
   ]
  },
  {
   "cell_type": "code",
   "execution_count": 10,
   "id": "2bf97f5065459140",
   "metadata": {
    "collapsed": false,
    "ExecuteTime": {
     "end_time": "2024-01-07T05:44:10.502588100Z",
     "start_time": "2024-01-07T05:44:10.198465300Z"
    }
   },
   "outputs": [],
   "source": [
    "# The input and output features preparation\n",
    "X = data.drop(['preco', 'id'], axis = 1)"
   ]
  },
  {
   "cell_type": "code",
   "execution_count": 11,
   "id": "162ec787c44d19a2",
   "metadata": {
    "collapsed": false,
    "ExecuteTime": {
     "end_time": "2024-01-07T05:44:10.503585600Z",
     "start_time": "2024-01-07T05:44:10.204079Z"
    }
   },
   "outputs": [
    {
     "data": {
      "text/plain": "(25000, 8)"
     },
     "execution_count": 11,
     "metadata": {},
     "output_type": "execute_result"
    }
   ],
   "source": [
    "X.shape"
   ]
  },
  {
   "cell_type": "code",
   "execution_count": 12,
   "id": "5c034be10f2c87e9",
   "metadata": {
    "collapsed": false,
    "ExecuteTime": {
     "end_time": "2024-01-07T05:44:10.503585600Z",
     "start_time": "2024-01-07T05:44:10.206582200Z"
    }
   },
   "outputs": [
    {
     "name": "stdout",
     "output_type": "stream",
     "text": [
      "   tipo  ano_registo  caixa  potencia      km  combustivel  marca  com_danos\n",
      "0     0         2014      0       140   40800            0      0          0\n",
      "1     0         2013      0       184   30300            1      1          0\n",
      "2     1         2009      0       177  150900            1      1          0\n",
      "3     2         2006      0        54  150500            0      2          0\n",
      "4     0         2015      0       150   40600            1      2          0\n",
      "5     0         2002      0       179  150000            0      3          0\n",
      "6     3         2014      0       110   60300            1      4          0\n",
      "7     2         2006      0        43  125600            0      0          0\n",
      "8     3         2011      0       125   70400            0      3          0\n",
      "9     0         2009      1       116  125800            0      4          0\n"
     ]
    }
   ],
   "source": [
    "print(X[:10])"
   ]
  },
  {
   "cell_type": "code",
   "execution_count": 13,
   "id": "c41375768afa50b7",
   "metadata": {
    "collapsed": false,
    "ExecuteTime": {
     "end_time": "2024-01-07T05:44:10.503585600Z",
     "start_time": "2024-01-07T05:44:10.212270200Z"
    }
   },
   "outputs": [],
   "source": [
    "#Spliting the data into training and testing dataset\n",
    "from sklearn.model_selection import train_test_split\n",
    "#Spliting the dataset\n",
    "X_train, X_test, y_train, y_test = train_test_split(X, y, test_size = 0.2, random_state = 0)"
   ]
  },
  {
   "cell_type": "code",
   "execution_count": 14,
   "id": "e75fd181764cc289",
   "metadata": {
    "collapsed": false,
    "ExecuteTime": {
     "end_time": "2024-01-07T05:44:10.503585600Z",
     "start_time": "2024-01-07T05:44:10.225260900Z"
    }
   },
   "outputs": [
    {
     "name": "stdout",
     "output_type": "stream",
     "text": [
      "(20000, 8) (5000, 8) (20000,) (5000,)\n"
     ]
    }
   ],
   "source": [
    "print(X_train.shape, X_test.shape, y_train.shape, y_test.shape)"
   ]
  },
  {
   "cell_type": "code",
   "execution_count": 15,
   "id": "b709caf637a30c9b",
   "metadata": {
    "collapsed": false,
    "ExecuteTime": {
     "end_time": "2024-01-07T05:44:10.503585600Z",
     "start_time": "2024-01-07T05:44:10.275806700Z"
    }
   },
   "outputs": [],
   "source": [
    "# Random Forest Model\n",
    "from sklearn.ensemble import RandomForestRegressor"
   ]
  },
  {
   "cell_type": "code",
   "execution_count": null,
   "outputs": [],
   "source": [
    "# GridSearchCV for hyperparameter tuning\n",
    "from sklearn.model_selection import GridSearchCV"
   ],
   "metadata": {
    "collapsed": false
   },
   "id": "71a4335d58ce87f0"
  },
  {
   "cell_type": "code",
   "execution_count": null,
   "outputs": [],
   "source": [
    "# Define the parameter grid\n",
    "param_grid = {\n",
    "    'n_estimators': [10, 20, 30],\n",
    "    'max_depth': [None, 5, 10, 15],\n",
    "    'min_samples_split': [2, 5, 10],\n",
    "    'min_samples_leaf': [1, 2, 4],\n",
    "    'max_features': ['auto', 'sqrt', 'log2']\n",
    "}"
   ],
   "metadata": {
    "collapsed": false
   },
   "id": "b794a82f28da29d0"
  },
  {
   "cell_type": "code",
   "execution_count": 16,
   "id": "32d27b5c2e9bc1e0",
   "metadata": {
    "collapsed": false,
    "ExecuteTime": {
     "end_time": "2024-01-07T05:44:10.504582900Z",
     "start_time": "2024-01-07T05:44:10.362454200Z"
    }
   },
   "outputs": [],
   "source": [
    "# Instantiation of the model\n",
    "model = RandomForestRegressor(random_state = 84)"
   ]
  },
  {
   "cell_type": "code",
   "execution_count": null,
   "outputs": [],
   "source": [
    "# Initialize GridSearchCV\n",
    "grid_search = GridSearchCV(estimator=model, param_grid=param_grid, cv=5, n_jobs=-1, verbose=2)"
   ],
   "metadata": {
    "collapsed": false
   },
   "id": "79c5c86136dbebd0"
  },
  {
   "cell_type": "code",
   "execution_count": null,
   "outputs": [],
   "source": [
    "# Fit the grid search to the data\n",
    "grid_search.fit(X, y)  # X and y should be replaced with your data and target variable"
   ],
   "metadata": {
    "collapsed": false
   },
   "id": "ab30e3c4e97f273"
  },
  {
   "cell_type": "code",
   "execution_count": null,
   "outputs": [],
   "source": [
    "# Get the best parameters\n",
    "best_params = grid_search.best_params_\n",
    "print(\"Best Parameters:\", best_params)"
   ],
   "metadata": {
    "collapsed": false
   },
   "id": "9263fabb1d351bbc"
  },
  {
   "cell_type": "code",
   "execution_count": 17,
   "id": "c4de947885bf198f",
   "metadata": {
    "collapsed": false,
    "ExecuteTime": {
     "end_time": "2024-01-07T05:44:26.363180300Z",
     "start_time": "2024-01-07T05:44:10.364955200Z"
    }
   },
   "outputs": [],
   "source": [
    "# Fitting the model\n",
    "price_rf = model.fit(X_train, y_train)"
   ]
  },
  {
   "cell_type": "code",
   "execution_count": 18,
   "id": "c055fef400bea617",
   "metadata": {
    "collapsed": false,
    "ExecuteTime": {
     "end_time": "2024-01-07T05:44:26.374403500Z",
     "start_time": "2024-01-07T05:44:26.366172200Z"
    }
   },
   "outputs": [],
   "source": [
    "# Training model evaluation"
   ]
  },
  {
   "cell_type": "code",
   "execution_count": 19,
   "id": "2d5767028f3802f8",
   "metadata": {
    "collapsed": false,
    "ExecuteTime": {
     "end_time": "2024-01-07T05:44:26.374403500Z",
     "start_time": "2024-01-07T05:44:26.369906200Z"
    }
   },
   "outputs": [],
   "source": [
    "from sklearn.metrics import mean_absolute_error, mean_squared_error, explained_variance_score, r2_score"
   ]
  },
  {
   "cell_type": "code",
   "execution_count": 20,
   "id": "c8dafc5ded129f06",
   "metadata": {
    "collapsed": false,
    "ExecuteTime": {
     "end_time": "2024-01-07T05:44:26.995800600Z",
     "start_time": "2024-01-07T05:44:26.372408400Z"
    }
   },
   "outputs": [
    {
     "name": "stdout",
     "output_type": "stream",
     "text": [
      "The trained r_sq is: 0.95\n"
     ]
    }
   ],
   "source": [
    "# The training r_sq\n",
    "print(f'The trained r_sq is: %.2f'%price_rf.score(X_train, y_train))"
   ]
  },
  {
   "cell_type": "code",
   "execution_count": 21,
   "id": "dc7086738b274fed",
   "metadata": {
    "collapsed": false,
    "ExecuteTime": {
     "end_time": "2024-01-07T05:44:27.626004600Z",
     "start_time": "2024-01-07T05:44:26.997795800Z"
    }
   },
   "outputs": [],
   "source": [
    "y_train_pred = price_rf.predict(X_train)"
   ]
  },
  {
   "cell_type": "code",
   "execution_count": 22,
   "id": "34f1409a253b7ad",
   "metadata": {
    "collapsed": false,
    "ExecuteTime": {
     "end_time": "2024-01-07T05:44:27.635821800Z",
     "start_time": "2024-01-07T05:44:27.626004600Z"
    }
   },
   "outputs": [
    {
     "name": "stdout",
     "output_type": "stream",
     "text": [
      "The MAE is: 698.29\n"
     ]
    }
   ],
   "source": [
    "# The MAE\n",
    "print('The MAE is: %.2f'%mean_absolute_error(y_train, y_train_pred))"
   ]
  },
  {
   "cell_type": "code",
   "execution_count": 23,
   "id": "c1cb262713ed66b8",
   "metadata": {
    "collapsed": false,
    "ExecuteTime": {
     "end_time": "2024-01-07T05:44:27.636231200Z",
     "start_time": "2024-01-07T05:44:27.630997800Z"
    }
   },
   "outputs": [
    {
     "name": "stdout",
     "output_type": "stream",
     "text": [
      "The MSE is: 5588182.99\n"
     ]
    }
   ],
   "source": [
    "# The MSE\n",
    "print('The MSE is: %.2f'%mean_squared_error(y_train, y_train_pred))"
   ]
  },
  {
   "cell_type": "code",
   "execution_count": 24,
   "id": "6a087bfa6a3a2f23",
   "metadata": {
    "collapsed": false,
    "ExecuteTime": {
     "end_time": "2024-01-07T05:44:27.650307500Z",
     "start_time": "2024-01-07T05:44:27.634823900Z"
    }
   },
   "outputs": [
    {
     "name": "stdout",
     "output_type": "stream",
     "text": [
      "The RMSE is: 2363.93\n"
     ]
    }
   ],
   "source": [
    "# THE RMSE\n",
    "import numpy as np\n",
    "print('The RMSE is: %.2f'%np.sqrt(mean_squared_error(y_train, y_train_pred)))"
   ]
  },
  {
   "cell_type": "code",
   "execution_count": 25,
   "id": "2289d36e011b055f",
   "metadata": {
    "collapsed": false,
    "ExecuteTime": {
     "end_time": "2024-01-07T05:44:27.650307500Z",
     "start_time": "2024-01-07T05:44:27.639269300Z"
    }
   },
   "outputs": [
    {
     "name": "stdout",
     "output_type": "stream",
     "text": [
      "The EVS is: 0.95\n"
     ]
    }
   ],
   "source": [
    "# The EVS\n",
    "print('The EVS is: %.2f'%explained_variance_score(y_train, y_train_pred))"
   ]
  },
  {
   "cell_type": "code",
   "execution_count": 26,
   "id": "45d5d1a234d73bbb",
   "metadata": {
    "collapsed": false,
    "ExecuteTime": {
     "end_time": "2024-01-07T05:44:27.835752400Z",
     "start_time": "2024-01-07T05:44:27.643297600Z"
    }
   },
   "outputs": [],
   "source": [
    "# Prediction on testing data\n",
    "y_test_pred = price_rf.predict(X_test)"
   ]
  },
  {
   "cell_type": "code",
   "execution_count": 27,
   "id": "aa3345429ca5de2f",
   "metadata": {
    "collapsed": false,
    "ExecuteTime": {
     "end_time": "2024-01-07T05:44:27.845381200Z",
     "start_time": "2024-01-07T05:44:27.836749900Z"
    }
   },
   "outputs": [
    {
     "name": "stdout",
     "output_type": "stream",
     "text": [
      "[ 2678.955       7569.335       8798.32166667  4635.71\n",
      "  8851.86        1353.52091667  5744.42        6326.26\n",
      "  9301.63         931.26666667 10556.72        2605.485\n",
      "  7969.885       3276.73333333  2787.5725      1294.35058333\n",
      "  3888.965        886.375       2949.6         9818.16\n",
      "  9720.49625    15427.3         3480.365       4622.22765873\n",
      " 12856.91        1522.20425    39439.6        16411.04166667\n",
      "  9598.10166667 26218.145      12373.1        10134.12\n",
      "  6520.20266667 10766.46166667  1105.19666667 10051.47857143\n",
      "  2556.1975     10057.855       5197.61166667 12207.32958333\n",
      " 25553.55        3661.65        6122.525      11442.83708333\n",
      "  2243.8575     10664.135      13730.335       3002.13071429\n",
      "  3426.14666667  5981.31        1622.33261905 31431.45\n",
      " 12497.268       1798.45083333  1036.46666667  8452.90333333\n",
      "  7207.315       1870.04966667   919.33        5235.765\n",
      " 10719.39        2890.095       1201.54820833  1341.22\n",
      "  7893.29       29275.04        2441.70214286  2049.92577381\n",
      "  4300.055       9099.16333333  1073.03458333  3853.15666667\n",
      "  6567.355       1646.11        7216.965       3060.81\n",
      "  1401.92         826.7539881  12019.72666667  7143.17\n",
      "  2455.25        3562.96558333 12309.76083333 11880.6675\n",
      "  6426.90625     1625.325       4451.76        3892.495\n",
      " 16817.544       8473.2         1629.40463095  6407.655\n",
      "  2890.225       6788.1775      5782.04166667  2963.39833333\n",
      "  6321.03        6979.88         906.7225      2754.8575    ]\n"
     ]
    }
   ],
   "source": [
    "print(y_test_pred[:100])"
   ]
  },
  {
   "cell_type": "code",
   "execution_count": 28,
   "id": "de960bc371668886",
   "metadata": {
    "collapsed": false,
    "ExecuteTime": {
     "end_time": "2024-01-07T05:44:27.846379700Z",
     "start_time": "2024-01-07T05:44:27.841007700Z"
    }
   },
   "outputs": [
    {
     "name": "stdout",
     "output_type": "stream",
     "text": [
      "The testing r_sq is: 0.80\n"
     ]
    }
   ],
   "source": [
    "# The testing coef. of determination\n",
    "print('The testing r_sq is: %.2f'% r2_score(y_test, y_test_pred))"
   ]
  },
  {
   "cell_type": "code",
   "execution_count": 29,
   "id": "b275f1d8d924959f",
   "metadata": {
    "collapsed": false,
    "ExecuteTime": {
     "end_time": "2024-01-07T05:44:28.035412900Z",
     "start_time": "2024-01-07T05:44:27.844384200Z"
    }
   },
   "outputs": [
    {
     "name": "stdout",
     "output_type": "stream",
     "text": [
      "The testing r_sq is: 0.80\n"
     ]
    }
   ],
   "source": [
    "# Or\n",
    "print('The testing r_sq is: %.2f'% price_rf.score(X_test, y_test))"
   ]
  },
  {
   "cell_type": "code",
   "execution_count": 30,
   "id": "f0104a00f67666fd",
   "metadata": {
    "collapsed": false,
    "ExecuteTime": {
     "end_time": "2024-01-07T05:44:28.037322700Z",
     "start_time": "2024-01-07T05:44:28.035820300Z"
    }
   },
   "outputs": [],
   "source": [
    "# The metrics"
   ]
  },
  {
   "cell_type": "code",
   "execution_count": 31,
   "id": "13f913cf6115d4c3",
   "metadata": {
    "collapsed": false,
    "ExecuteTime": {
     "end_time": "2024-01-07T05:44:28.045540500Z",
     "start_time": "2024-01-07T05:44:28.038320Z"
    }
   },
   "outputs": [
    {
     "name": "stdout",
     "output_type": "stream",
     "text": [
      "The MAE IS: 1854.50\n"
     ]
    }
   ],
   "source": [
    "#The MAE\n",
    "print('The MAE IS: %.2f'%mean_absolute_error(y_test, y_test_pred))"
   ]
  },
  {
   "cell_type": "code",
   "execution_count": 32,
   "id": "68070990095e1b67",
   "metadata": {
    "collapsed": false,
    "ExecuteTime": {
     "end_time": "2024-01-07T05:44:28.046716200Z",
     "start_time": "2024-01-07T05:44:28.041852100Z"
    }
   },
   "outputs": [
    {
     "name": "stdout",
     "output_type": "stream",
     "text": [
      "The MSE IS: 38273756.30\n"
     ]
    }
   ],
   "source": [
    "#The MSE\n",
    "print('The MSE IS: %.2f'%mean_squared_error(y_test, y_test_pred))"
   ]
  },
  {
   "cell_type": "code",
   "execution_count": 33,
   "id": "831199478276bc7c",
   "metadata": {
    "collapsed": false,
    "ExecuteTime": {
     "end_time": "2024-01-07T05:44:28.052411500Z",
     "start_time": "2024-01-07T05:44:28.046716200Z"
    }
   },
   "outputs": [
    {
     "name": "stdout",
     "output_type": "stream",
     "text": [
      "The RMSE IS: 6186.58\n"
     ]
    }
   ],
   "source": [
    "# THE RMSE\n",
    "print('The RMSE IS: %.2f'%np.sqrt(mean_squared_error(y_test, y_test_pred)))"
   ]
  },
  {
   "cell_type": "code",
   "execution_count": 34,
   "id": "9cf7c719824a1fba",
   "metadata": {
    "collapsed": false,
    "ExecuteTime": {
     "end_time": "2024-01-07T05:44:28.052411500Z",
     "start_time": "2024-01-07T05:44:28.049215900Z"
    }
   },
   "outputs": [
    {
     "name": "stdout",
     "output_type": "stream",
     "text": [
      "The EVS is: 0.80\n"
     ]
    }
   ],
   "source": [
    "# The EVS\n",
    "print('The EVS is: %.2f'% explained_variance_score(y_test, y_test_pred))"
   ]
  },
  {
   "cell_type": "code",
   "outputs": [
    {
     "name": "stdout",
     "output_type": "stream",
     "text": [
      "Collecting matplotlib\n",
      "  Obtaining dependency information for matplotlib from https://files.pythonhosted.org/packages/2e/51/c77a14869b7eb9d6fb440e811b754fc3950d6868c38ace57d0632b674415/matplotlib-3.8.2-cp312-cp312-win_amd64.whl.metadata\n",
      "  Downloading matplotlib-3.8.2-cp312-cp312-win_amd64.whl.metadata (5.9 kB)\n",
      "Collecting contourpy>=1.0.1 (from matplotlib)\n",
      "  Obtaining dependency information for contourpy>=1.0.1 from https://files.pythonhosted.org/packages/8e/ae/a6353db548bff1a592b85ae6bb80275f0a51dc25a0410d059e5b33183e36/contourpy-1.2.0-cp312-cp312-win_amd64.whl.metadata\n",
      "  Downloading contourpy-1.2.0-cp312-cp312-win_amd64.whl.metadata (5.8 kB)\n",
      "Collecting cycler>=0.10 (from matplotlib)\n",
      "  Obtaining dependency information for cycler>=0.10 from https://files.pythonhosted.org/packages/e7/05/c19819d5e3d95294a6f5947fb9b9629efb316b96de511b418c53d245aae6/cycler-0.12.1-py3-none-any.whl.metadata\n",
      "  Downloading cycler-0.12.1-py3-none-any.whl.metadata (3.8 kB)\n",
      "Collecting fonttools>=4.22.0 (from matplotlib)\n",
      "  Obtaining dependency information for fonttools>=4.22.0 from https://files.pythonhosted.org/packages/31/ec/1aeea536f14a03dd26679d7bfeb9b164379009afb71086476816d7a6ea8c/fonttools-4.47.0-cp312-cp312-win_amd64.whl.metadata\n",
      "  Downloading fonttools-4.47.0-cp312-cp312-win_amd64.whl.metadata (160 kB)\n",
      "     ---------------------------------------- 0.0/160.4 kB ? eta -:--:--\n",
      "     ------------------- ------------------- 81.9/160.4 kB 4.5 MB/s eta 0:00:01\n",
      "     -------------------------------------- 160.4/160.4 kB 4.8 MB/s eta 0:00:00\n",
      "Collecting kiwisolver>=1.3.1 (from matplotlib)\n",
      "  Obtaining dependency information for kiwisolver>=1.3.1 from https://files.pythonhosted.org/packages/63/50/2746566bdf4a6a842d117367d05c90cfb87ac04e9e2845aa1fa21f071362/kiwisolver-1.4.5-cp312-cp312-win_amd64.whl.metadata\n",
      "  Downloading kiwisolver-1.4.5-cp312-cp312-win_amd64.whl.metadata (6.5 kB)\n",
      "Requirement already satisfied: numpy<2,>=1.21 in c:\\users\\utilizador\\appdata\\local\\programs\\python\\python312\\lib\\site-packages (from matplotlib) (1.26.3)\n",
      "Requirement already satisfied: packaging>=20.0 in c:\\users\\utilizador\\appdata\\local\\programs\\python\\python312\\lib\\site-packages (from matplotlib) (23.2)\n",
      "Collecting pillow>=8 (from matplotlib)\n",
      "  Obtaining dependency information for pillow>=8 from https://files.pythonhosted.org/packages/51/07/7e9266a59bb267b56c1f432f6416653b9a78dda771c57740d064a8aa2a44/pillow-10.2.0-cp312-cp312-win_amd64.whl.metadata\n",
      "  Downloading pillow-10.2.0-cp312-cp312-win_amd64.whl.metadata (9.9 kB)\n",
      "Collecting pyparsing>=2.3.1 (from matplotlib)\n",
      "  Obtaining dependency information for pyparsing>=2.3.1 from https://files.pythonhosted.org/packages/39/92/8486ede85fcc088f1b3dba4ce92dd29d126fd96b0008ea213167940a2475/pyparsing-3.1.1-py3-none-any.whl.metadata\n",
      "  Downloading pyparsing-3.1.1-py3-none-any.whl.metadata (5.1 kB)\n",
      "Requirement already satisfied: python-dateutil>=2.7 in c:\\users\\utilizador\\appdata\\local\\programs\\python\\python312\\lib\\site-packages (from matplotlib) (2.8.2)\n",
      "Requirement already satisfied: six>=1.5 in c:\\users\\utilizador\\appdata\\local\\programs\\python\\python312\\lib\\site-packages (from python-dateutil>=2.7->matplotlib) (1.16.0)\n",
      "Downloading matplotlib-3.8.2-cp312-cp312-win_amd64.whl (7.6 MB)\n",
      "   ---------------------------------------- 0.0/7.6 MB ? eta -:--:--\n",
      "   -- ------------------------------------- 0.5/7.6 MB 17.2 MB/s eta 0:00:01\n",
      "   ------ --------------------------------- 1.2/7.6 MB 15.8 MB/s eta 0:00:01\n",
      "   ---------- ----------------------------- 2.0/7.6 MB 16.2 MB/s eta 0:00:01\n",
      "   ---------------- ----------------------- 3.1/7.6 MB 17.9 MB/s eta 0:00:01\n",
      "   --------------------- ------------------ 4.2/7.6 MB 19.0 MB/s eta 0:00:01\n",
      "   --------------------------- ------------ 5.3/7.6 MB 18.8 MB/s eta 0:00:01\n",
      "   ----------------------------------- ---- 6.7/7.6 MB 20.5 MB/s eta 0:00:01\n",
      "   ---------------------------------------  7.6/7.6 MB 21.3 MB/s eta 0:00:01\n",
      "   ---------------------------------------- 7.6/7.6 MB 20.4 MB/s eta 0:00:00\n",
      "Downloading contourpy-1.2.0-cp312-cp312-win_amd64.whl (187 kB)\n",
      "   ---------------------------------------- 0.0/187.7 kB ? eta -:--:--\n",
      "   ---------------------------------------- 187.7/187.7 kB ? eta 0:00:00\n",
      "Downloading cycler-0.12.1-py3-none-any.whl (8.3 kB)\n",
      "Downloading fonttools-4.47.0-cp312-cp312-win_amd64.whl (2.2 MB)\n",
      "   ---------------------------------------- 0.0/2.2 MB ? eta -:--:--\n",
      "   ------------------------- -------------- 1.4/2.2 MB 28.8 MB/s eta 0:00:01\n",
      "   ---------------------------------------- 2.2/2.2 MB 27.6 MB/s eta 0:00:00\n",
      "Downloading kiwisolver-1.4.5-cp312-cp312-win_amd64.whl (56 kB)\n",
      "   ---------------------------------------- 0.0/56.0 kB ? eta -:--:--\n",
      "   ---------------------------------------- 56.0/56.0 kB ? eta 0:00:00\n",
      "Downloading pillow-10.2.0-cp312-cp312-win_amd64.whl (2.6 MB)\n",
      "   ---------------------------------------- 0.0/2.6 MB ? eta -:--:--\n",
      "   ---------------- ----------------------- 1.1/2.6 MB 33.3 MB/s eta 0:00:01\n",
      "   -------------------------------------- - 2.5/2.6 MB 32.0 MB/s eta 0:00:01\n",
      "   ---------------------------------------- 2.6/2.6 MB 27.8 MB/s eta 0:00:00\n",
      "Downloading pyparsing-3.1.1-py3-none-any.whl (103 kB)\n",
      "   ---------------------------------------- 0.0/103.1 kB ? eta -:--:--\n",
      "   ---------------------------------------- 103.1/103.1 kB ? eta 0:00:00\n",
      "Installing collected packages: pyparsing, pillow, kiwisolver, fonttools, cycler, contourpy, matplotlib\n",
      "Successfully installed contourpy-1.2.0 cycler-0.12.1 fonttools-4.47.0 kiwisolver-1.4.5 matplotlib-3.8.2 pillow-10.2.0 pyparsing-3.1.1\n",
      "Note: you may need to restart the kernel to use updated packages.\n"
     ]
    },
    {
     "name": "stderr",
     "output_type": "stream",
     "text": [
      "\n",
      "[notice] A new release of pip is available: 23.2.1 -> 23.3.2\n",
      "[notice] To update, run: python.exe -m pip install --upgrade pip\n"
     ]
    }
   ],
   "source": [
    "pip install matplotlib"
   ],
   "metadata": {
    "collapsed": false,
    "ExecuteTime": {
     "end_time": "2024-01-07T05:44:40.103121500Z",
     "start_time": "2024-01-07T05:44:28.053408900Z"
    }
   },
   "id": "b7a383e82d9039d3",
   "execution_count": 35
  },
  {
   "cell_type": "code",
   "execution_count": 36,
   "id": "27764e7d19ff237f",
   "metadata": {
    "collapsed": false,
    "ExecuteTime": {
     "end_time": "2024-01-07T05:44:40.728568400Z",
     "start_time": "2024-01-07T05:44:40.102124300Z"
    }
   },
   "outputs": [
    {
     "data": {
      "text/plain": "<Figure size 1000x600 with 1 Axes>",
      "image/png": "[encoded data removed]"
     },
     "metadata": {},
     "output_type": "display_data"
    }
   ],
   "source": [
    "# Plotting the observed and predicted data\n",
    "import matplotlib.pyplot as plt\n",
    "# Setting the boundaries and parameters\n",
    "plt.rcParams['figure.figsize'] = (10, 6)\n",
    "x_ax = range(len(X_test))\n",
    "#Ploting\n",
    "plt.plot(x_ax, y_test, label = 'Real Value', color = 'k', linestyle = '-')\n",
    "plt.plot(x_ax, y_test_pred, label = 'RF Predication', color = 'green', linestyle = '--')\n",
    "plt.ylabel('price')\n",
    "plt.xlabel('Testing sample data')\n",
    "plt.legend(bbox_to_anchor = (0.5, -0.2), loc = 'lower center', ncol = 2, frameon = False)\n",
    "plt.show()"
   ]
  },
  {
   "cell_type": "code",
   "outputs": [
    {
     "data": {
      "text/plain": "<Figure size 1000x600 with 1 Axes>",
      "image/png": "[encoded data removed]"
     },
     "metadata": {},
     "output_type": "display_data"
    }
   ],
   "source": [
    "# Plot a more visualized view\n",
    "import random as rd\n",
    "\n",
    "# Setting the boundaries and parameters\n",
    "plt.rcParams['figure.figsize'] = (10, 6)\n",
    "x_ax = range(0, 50)\n",
    "# Setting random search plot\n",
    "\n",
    "st = rd.randint(0, 4550) #start\n",
    "nd = st + 50 #end\n",
    "\n",
    "# Plotting\n",
    "plt.plot(x_ax, y_test[st:nd], label = 'Real value', color = 'blue', linestyle = '-')\n",
    "plt.plot(x_ax, y_test_pred[st:nd], label = 'RF Prediction', color = 'red', linestyle = '--')\n",
    "plt.ylabel('price')\n",
    "plt.xlabel('Testing sample data')\n",
    "plt.legend(bbox_to_anchor = (0.5, -0.2), loc = 'lower center', ncol = 2, frameon = False)\n",
    "plt.show()"
   ],
   "metadata": {
    "collapsed": false,
    "ExecuteTime": {
     "end_time": "2024-01-07T05:44:40.841263400Z",
     "start_time": "2024-01-07T05:44:40.728568400Z"
    }
   },
   "id": "f410e6cc21c53ca1",
   "execution_count": 37
  },
  {
   "cell_type": "code",
   "outputs": [
    {
     "name": "stdout",
     "output_type": "stream",
     "text": [
      "Requirement already satisfied: yellowbrick in c:\\users\\utilizador\\appdata\\local\\programs\\python\\python312\\lib\\site-packages (1.5)Note: you may need to restart the kernel to use updated packages.\n",
      "\n",
      "Requirement already satisfied: matplotlib!=3.0.0,>=2.0.2 in c:\\users\\utilizador\\appdata\\local\\programs\\python\\python312\\lib\\site-packages (from yellowbrick) (3.8.2)\n",
      "Requirement already satisfied: scipy>=1.0.0 in c:\\users\\utilizador\\appdata\\local\\programs\\python\\python312\\lib\\site-packages (from yellowbrick) (1.11.4)\n",
      "Requirement already satisfied: scikit-learn>=1.0.0 in c:\\users\\utilizador\\appdata\\local\\programs\\python\\python312\\lib\\site-packages (from yellowbrick) (1.3.2)\n",
      "Requirement already satisfied: numpy>=1.16.0 in c:\\users\\utilizador\\appdata\\local\\programs\\python\\python312\\lib\\site-packages (from yellowbrick) (1.26.3)\n",
      "Requirement already satisfied: cycler>=0.10.0 in c:\\users\\utilizador\\appdata\\local\\programs\\python\\python312\\lib\\site-packages (from yellowbrick) (0.12.1)\n",
      "Requirement already satisfied: contourpy>=1.0.1 in c:\\users\\utilizador\\appdata\\local\\programs\\python\\python312\\lib\\site-packages (from matplotlib!=3.0.0,>=2.0.2->yellowbrick) (1.2.0)\n",
      "Requirement already satisfied: fonttools>=4.22.0 in c:\\users\\utilizador\\appdata\\local\\programs\\python\\python312\\lib\\site-packages (from matplotlib!=3.0.0,>=2.0.2->yellowbrick) (4.47.0)\n",
      "Requirement already satisfied: kiwisolver>=1.3.1 in c:\\users\\utilizador\\appdata\\local\\programs\\python\\python312\\lib\\site-packages (from matplotlib!=3.0.0,>=2.0.2->yellowbrick) (1.4.5)\n",
      "Requirement already satisfied: packaging>=20.0 in c:\\users\\utilizador\\appdata\\local\\programs\\python\\python312\\lib\\site-packages (from matplotlib!=3.0.0,>=2.0.2->yellowbrick) (23.2)\n",
      "Requirement already satisfied: pillow>=8 in c:\\users\\utilizador\\appdata\\local\\programs\\python\\python312\\lib\\site-packages (from matplotlib!=3.0.0,>=2.0.2->yellowbrick) (10.2.0)\n",
      "Requirement already satisfied: pyparsing>=2.3.1 in c:\\users\\utilizador\\appdata\\local\\programs\\python\\python312\\lib\\site-packages (from matplotlib!=3.0.0,>=2.0.2->yellowbrick) (3.1.1)\n",
      "Requirement already satisfied: python-dateutil>=2.7 in c:\\users\\utilizador\\appdata\\local\\programs\\python\\python312\\lib\\site-packages (from matplotlib!=3.0.0,>=2.0.2->yellowbrick) (2.8.2)\n",
      "Requirement already satisfied: joblib>=1.1.1 in c:\\users\\utilizador\\appdata\\local\\programs\\python\\python312\\lib\\site-packages (from scikit-learn>=1.0.0->yellowbrick) (1.3.2)\n",
      "Requirement already satisfied: threadpoolctl>=2.0.0 in c:\\users\\utilizador\\appdata\\local\\programs\\python\\python312\\lib\\site-packages (from scikit-learn>=1.0.0->yellowbrick) (3.2.0)\n",
      "Requirement already satisfied: six>=1.5 in c:\\users\\utilizador\\appdata\\local\\programs\\python\\python312\\lib\\site-packages (from python-dateutil>=2.7->matplotlib!=3.0.0,>=2.0.2->yellowbrick) (1.16.0)\n"
     ]
    }
   ],
   "source": [
    "pip install yellowbrick"
   ],
   "metadata": {
    "collapsed": false,
    "ExecuteTime": {
     "end_time": "2024-01-07T05:46:39.712304100Z",
     "start_time": "2024-01-07T05:46:38.204113600Z"
    }
   },
   "id": "6784c968b7c62f7f",
   "execution_count": 40
  },
  {
   "cell_type": "code",
   "outputs": [
    {
     "ename": "ModuleNotFoundError",
     "evalue": "No module named 'distutils'",
     "output_type": "error",
     "traceback": [
      "\u001B[1;31m---------------------------------------------------------------------------\u001B[0m",
      "\u001B[1;31mModuleNotFoundError\u001B[0m                       Traceback (most recent call last)",
      "Cell \u001B[1;32mIn[41], line 1\u001B[0m\n\u001B[1;32m----> 1\u001B[0m \u001B[38;5;28;01mfrom\u001B[39;00m \u001B[38;5;21;01myellowbrick\u001B[39;00m\u001B[38;5;21;01m.\u001B[39;00m\u001B[38;5;21;01mregressor\u001B[39;00m \u001B[38;5;28;01mimport\u001B[39;00m PredictionError\n\u001B[0;32m      3\u001B[0m \u001B[38;5;66;03m# For plotting clarity concatenated redundant values\u001B[39;00m\n\u001B[0;32m      4\u001B[0m lower_bound \u001B[38;5;241m=\u001B[39m \u001B[38;5;241m100\u001B[39m\n",
      "File \u001B[1;32m~\\AppData\\Local\\Programs\\Python\\Python312\\Lib\\site-packages\\yellowbrick\\__init__.py:31\u001B[0m\n\u001B[0;32m     28\u001B[0m \u001B[38;5;28;01mfrom\u001B[39;00m \u001B[38;5;21;01m.\u001B[39;00m\u001B[38;5;21;01mversion\u001B[39;00m \u001B[38;5;28;01mimport\u001B[39;00m get_version, __version_info__\n\u001B[0;32m     30\u001B[0m \u001B[38;5;66;03m# Import the style management functions\u001B[39;00m\n\u001B[1;32m---> 31\u001B[0m \u001B[38;5;28;01mfrom\u001B[39;00m \u001B[38;5;21;01m.\u001B[39;00m\u001B[38;5;21;01mstyle\u001B[39;00m\u001B[38;5;21;01m.\u001B[39;00m\u001B[38;5;21;01mrcmod\u001B[39;00m \u001B[38;5;28;01mimport\u001B[39;00m reset_defaults, reset_orig\n\u001B[0;32m     32\u001B[0m \u001B[38;5;28;01mfrom\u001B[39;00m \u001B[38;5;21;01m.\u001B[39;00m\u001B[38;5;21;01mstyle\u001B[39;00m\u001B[38;5;21;01m.\u001B[39;00m\u001B[38;5;21;01mrcmod\u001B[39;00m \u001B[38;5;28;01mimport\u001B[39;00m set_aesthetic, set_style, set_palette\n\u001B[0;32m     33\u001B[0m \u001B[38;5;28;01mfrom\u001B[39;00m \u001B[38;5;21;01m.\u001B[39;00m\u001B[38;5;21;01mstyle\u001B[39;00m\u001B[38;5;21;01m.\u001B[39;00m\u001B[38;5;21;01mpalettes\u001B[39;00m \u001B[38;5;28;01mimport\u001B[39;00m color_palette, set_color_codes\n",
      "File \u001B[1;32m~\\AppData\\Local\\Programs\\Python\\Python312\\Lib\\site-packages\\yellowbrick\\style\\__init__.py:20\u001B[0m\n\u001B[0;32m     12\u001B[0m \u001B[38;5;124;03m\"\"\"\u001B[39;00m\n\u001B[0;32m     13\u001B[0m \u001B[38;5;124;03mManage the style and aesthetic of the yellowbrick library.\u001B[39;00m\n\u001B[0;32m     14\u001B[0m \u001B[38;5;124;03m\"\"\"\u001B[39;00m\n\u001B[0;32m     16\u001B[0m \u001B[38;5;66;03m##########################################################################\u001B[39;00m\n\u001B[0;32m     17\u001B[0m \u001B[38;5;66;03m## Imports\u001B[39;00m\n\u001B[0;32m     18\u001B[0m \u001B[38;5;66;03m##########################################################################\u001B[39;00m\n\u001B[1;32m---> 20\u001B[0m \u001B[38;5;28;01mfrom\u001B[39;00m \u001B[38;5;21;01m.\u001B[39;00m\u001B[38;5;21;01mcolors\u001B[39;00m \u001B[38;5;28;01mimport\u001B[39;00m \u001B[38;5;241m*\u001B[39m\n\u001B[0;32m     21\u001B[0m \u001B[38;5;28;01mfrom\u001B[39;00m \u001B[38;5;21;01m.\u001B[39;00m\u001B[38;5;21;01mpalettes\u001B[39;00m \u001B[38;5;28;01mimport\u001B[39;00m \u001B[38;5;241m*\u001B[39m\n\u001B[0;32m     22\u001B[0m \u001B[38;5;28;01mfrom\u001B[39;00m \u001B[38;5;21;01m.\u001B[39;00m\u001B[38;5;21;01mrcmod\u001B[39;00m \u001B[38;5;28;01mimport\u001B[39;00m \u001B[38;5;241m*\u001B[39m\n",
      "File \u001B[1;32m~\\AppData\\Local\\Programs\\Python\\Python312\\Lib\\site-packages\\yellowbrick\\style\\colors.py:33\u001B[0m\n\u001B[0;32m     29\u001B[0m \u001B[38;5;28;01mfrom\u001B[39;00m \u001B[38;5;21;01myellowbrick\u001B[39;00m\u001B[38;5;21;01m.\u001B[39;00m\u001B[38;5;21;01mexceptions\u001B[39;00m \u001B[38;5;28;01mimport\u001B[39;00m YellowbrickValueError\n\u001B[0;32m     32\u001B[0m \u001B[38;5;66;03m# Check to see if matplotlib is at least sorta up to date\u001B[39;00m\n\u001B[1;32m---> 33\u001B[0m \u001B[38;5;28;01mfrom\u001B[39;00m \u001B[38;5;21;01mdistutils\u001B[39;00m\u001B[38;5;21;01m.\u001B[39;00m\u001B[38;5;21;01mversion\u001B[39;00m \u001B[38;5;28;01mimport\u001B[39;00m LooseVersion\n\u001B[0;32m     35\u001B[0m mpl_ge_150 \u001B[38;5;241m=\u001B[39m LooseVersion(mpl\u001B[38;5;241m.\u001B[39m__version__) \u001B[38;5;241m>\u001B[39m\u001B[38;5;241m=\u001B[39m \u001B[38;5;124m\"\u001B[39m\u001B[38;5;124m1.5.0\u001B[39m\u001B[38;5;124m\"\u001B[39m\n\u001B[0;32m     38\u001B[0m \u001B[38;5;66;03m##########################################################################\u001B[39;00m\n\u001B[0;32m     39\u001B[0m \u001B[38;5;66;03m## Color Utilities\u001B[39;00m\n\u001B[0;32m     40\u001B[0m \u001B[38;5;66;03m##########################################################################\u001B[39;00m\n",
      "\u001B[1;31mModuleNotFoundError\u001B[0m: No module named 'distutils'"
     ]
    }
   ],
   "source": [
    "from yellowbrick.regressor import PredictionError\n",
    "\n",
    "# For plotting clarity concatenated redundant values\n",
    "lower_bound = 100\n",
    "upper_bound = 150000\n",
    "\n",
    "# Filter X_test and y_test based on the desired range\n",
    "indices_within_range = np.where((y_test >= lower_bound) & (y_test <= upper_bound))[0]\n",
    "X_test_within_range = X_test.iloc[indices_within_range]\n",
    "y_test_within_range = y_test.iloc[indices_within_range]\n",
    "\n",
    "# Create PredictionError visualizer with the filtered data\n",
    "visualizer = PredictionError(price_rf)\n",
    "visualizer.fit(X_train, y_train)\n",
    "visualizer.score(X_test_within_range, y_test_within_range)\n",
    "visualizer.poof()"
   ],
   "metadata": {
    "collapsed": false,
    "ExecuteTime": {
     "end_time": "2024-01-07T05:46:42.200782600Z",
     "start_time": "2024-01-07T05:46:42.159029200Z"
    }
   },
   "id": "fe1de5b3c14c2ef0",
   "execution_count": 41
  },
  {
   "cell_type": "code",
   "outputs": [
    {
     "ename": "ModuleNotFoundError",
     "evalue": "No module named 'distutils'",
     "output_type": "error",
     "traceback": [
      "\u001B[1;31m---------------------------------------------------------------------------\u001B[0m",
      "\u001B[1;31mModuleNotFoundError\u001B[0m                       Traceback (most recent call last)",
      "Cell \u001B[1;32mIn[42], line 1\u001B[0m\n\u001B[1;32m----> 1\u001B[0m \u001B[38;5;28;01mfrom\u001B[39;00m \u001B[38;5;21;01myellowbrick\u001B[39;00m\u001B[38;5;21;01m.\u001B[39;00m\u001B[38;5;21;01mregressor\u001B[39;00m \u001B[38;5;28;01mimport\u001B[39;00m PredictionError\n\u001B[0;32m      2\u001B[0m \u001B[38;5;28;01mimport\u001B[39;00m \u001B[38;5;21;01mmatplotlib\u001B[39;00m\u001B[38;5;21;01m.\u001B[39;00m\u001B[38;5;21;01mpyplot\u001B[39;00m \u001B[38;5;28;01mas\u001B[39;00m \u001B[38;5;21;01mplt\u001B[39;00m\n\u001B[0;32m      3\u001B[0m \u001B[38;5;28;01mimport\u001B[39;00m \u001B[38;5;21;01mnumpy\u001B[39;00m \u001B[38;5;28;01mas\u001B[39;00m \u001B[38;5;21;01mnp\u001B[39;00m\n",
      "File \u001B[1;32m~\\AppData\\Local\\Programs\\Python\\Python312\\Lib\\site-packages\\yellowbrick\\__init__.py:31\u001B[0m\n\u001B[0;32m     28\u001B[0m \u001B[38;5;28;01mfrom\u001B[39;00m \u001B[38;5;21;01m.\u001B[39;00m\u001B[38;5;21;01mversion\u001B[39;00m \u001B[38;5;28;01mimport\u001B[39;00m get_version, __version_info__\n\u001B[0;32m     30\u001B[0m \u001B[38;5;66;03m# Import the style management functions\u001B[39;00m\n\u001B[1;32m---> 31\u001B[0m \u001B[38;5;28;01mfrom\u001B[39;00m \u001B[38;5;21;01m.\u001B[39;00m\u001B[38;5;21;01mstyle\u001B[39;00m\u001B[38;5;21;01m.\u001B[39;00m\u001B[38;5;21;01mrcmod\u001B[39;00m \u001B[38;5;28;01mimport\u001B[39;00m reset_defaults, reset_orig\n\u001B[0;32m     32\u001B[0m \u001B[38;5;28;01mfrom\u001B[39;00m \u001B[38;5;21;01m.\u001B[39;00m\u001B[38;5;21;01mstyle\u001B[39;00m\u001B[38;5;21;01m.\u001B[39;00m\u001B[38;5;21;01mrcmod\u001B[39;00m \u001B[38;5;28;01mimport\u001B[39;00m set_aesthetic, set_style, set_palette\n\u001B[0;32m     33\u001B[0m \u001B[38;5;28;01mfrom\u001B[39;00m \u001B[38;5;21;01m.\u001B[39;00m\u001B[38;5;21;01mstyle\u001B[39;00m\u001B[38;5;21;01m.\u001B[39;00m\u001B[38;5;21;01mpalettes\u001B[39;00m \u001B[38;5;28;01mimport\u001B[39;00m color_palette, set_color_codes\n",
      "File \u001B[1;32m~\\AppData\\Local\\Programs\\Python\\Python312\\Lib\\site-packages\\yellowbrick\\style\\__init__.py:20\u001B[0m\n\u001B[0;32m     12\u001B[0m \u001B[38;5;124;03m\"\"\"\u001B[39;00m\n\u001B[0;32m     13\u001B[0m \u001B[38;5;124;03mManage the style and aesthetic of the yellowbrick library.\u001B[39;00m\n\u001B[0;32m     14\u001B[0m \u001B[38;5;124;03m\"\"\"\u001B[39;00m\n\u001B[0;32m     16\u001B[0m \u001B[38;5;66;03m##########################################################################\u001B[39;00m\n\u001B[0;32m     17\u001B[0m \u001B[38;5;66;03m## Imports\u001B[39;00m\n\u001B[0;32m     18\u001B[0m \u001B[38;5;66;03m##########################################################################\u001B[39;00m\n\u001B[1;32m---> 20\u001B[0m \u001B[38;5;28;01mfrom\u001B[39;00m \u001B[38;5;21;01m.\u001B[39;00m\u001B[38;5;21;01mcolors\u001B[39;00m \u001B[38;5;28;01mimport\u001B[39;00m \u001B[38;5;241m*\u001B[39m\n\u001B[0;32m     21\u001B[0m \u001B[38;5;28;01mfrom\u001B[39;00m \u001B[38;5;21;01m.\u001B[39;00m\u001B[38;5;21;01mpalettes\u001B[39;00m \u001B[38;5;28;01mimport\u001B[39;00m \u001B[38;5;241m*\u001B[39m\n\u001B[0;32m     22\u001B[0m \u001B[38;5;28;01mfrom\u001B[39;00m \u001B[38;5;21;01m.\u001B[39;00m\u001B[38;5;21;01mrcmod\u001B[39;00m \u001B[38;5;28;01mimport\u001B[39;00m \u001B[38;5;241m*\u001B[39m\n",
      "File \u001B[1;32m~\\AppData\\Local\\Programs\\Python\\Python312\\Lib\\site-packages\\yellowbrick\\style\\colors.py:33\u001B[0m\n\u001B[0;32m     29\u001B[0m \u001B[38;5;28;01mfrom\u001B[39;00m \u001B[38;5;21;01myellowbrick\u001B[39;00m\u001B[38;5;21;01m.\u001B[39;00m\u001B[38;5;21;01mexceptions\u001B[39;00m \u001B[38;5;28;01mimport\u001B[39;00m YellowbrickValueError\n\u001B[0;32m     32\u001B[0m \u001B[38;5;66;03m# Check to see if matplotlib is at least sorta up to date\u001B[39;00m\n\u001B[1;32m---> 33\u001B[0m \u001B[38;5;28;01mfrom\u001B[39;00m \u001B[38;5;21;01mdistutils\u001B[39;00m\u001B[38;5;21;01m.\u001B[39;00m\u001B[38;5;21;01mversion\u001B[39;00m \u001B[38;5;28;01mimport\u001B[39;00m LooseVersion\n\u001B[0;32m     35\u001B[0m mpl_ge_150 \u001B[38;5;241m=\u001B[39m LooseVersion(mpl\u001B[38;5;241m.\u001B[39m__version__) \u001B[38;5;241m>\u001B[39m\u001B[38;5;241m=\u001B[39m \u001B[38;5;124m\"\u001B[39m\u001B[38;5;124m1.5.0\u001B[39m\u001B[38;5;124m\"\u001B[39m\n\u001B[0;32m     38\u001B[0m \u001B[38;5;66;03m##########################################################################\u001B[39;00m\n\u001B[0;32m     39\u001B[0m \u001B[38;5;66;03m## Color Utilities\u001B[39;00m\n\u001B[0;32m     40\u001B[0m \u001B[38;5;66;03m##########################################################################\u001B[39;00m\n",
      "\u001B[1;31mModuleNotFoundError\u001B[0m: No module named 'distutils'"
     ]
    }
   ],
   "source": [
    "from yellowbrick.regressor import PredictionError\n",
    "import matplotlib.pyplot as plt\n",
    "import numpy as np\n",
    "\n",
    "# Assuming your desired lower and upper bounds are 100 and 150000, respectively\n",
    "lower_bound = 100\n",
    "upper_bound = 150000\n",
    "\n",
    "# Filter X_test and y_test based on the desired range\n",
    "indices_within_range = np.where((y_test >= lower_bound) & (y_test <= upper_bound))[0]\n",
    "X_test_within_range = X_test.iloc[indices_within_range]\n",
    "y_test_within_range = y_test.iloc[indices_within_range]\n",
    "\n",
    "# Create PredictionError visualizer with the filtered data\n",
    "visualizer = PredictionError(price_rf)\n",
    "visualizer.fit(X_train, y_train)\n",
    "\n",
    "# Predict on the filtered test data\n",
    "y_pred_within_range = price_rf.predict(X_test_within_range)\n",
    "\n",
    "# Filter predicted values within the specified range\n",
    "indices_y_pred_within_range = np.where((y_pred_within_range >= lower_bound) & (y_pred_within_range <= upper_bound))[0]\n",
    "y_test_within_range_filtered = y_test_within_range.iloc[indices_y_pred_within_range]\n",
    "y_pred_within_range_filtered = y_pred_within_range[indices_y_pred_within_range]\n",
    "\n",
    "# Fit the visualizer on the filtered test data and predicted values within the range\n",
    "visualizer.score(X_test_within_range, y_test_within_range)\n",
    "visualizer.poof()\n",
    "\n",
    "# Set the y-axis limits to display only the specified range for both y and y_hat\n",
    "plt.ylim(lower_bound, upper_bound)\n",
    "plt.scatter(y_test_within_range_filtered, y_pred_within_range_filtered, edgecolors=(0, 0, 0))\n",
    "plt.plot([lower_bound, upper_bound], [lower_bound, upper_bound], 'r--')\n",
    "plt.xlabel('Actual')\n",
    "plt.ylabel('Predicted')\n",
    "plt.title('Prediction Error')\n",
    "plt.show()\n"
   ],
   "metadata": {
    "collapsed": false,
    "ExecuteTime": {
     "end_time": "2024-01-07T05:47:18.580964800Z",
     "start_time": "2024-01-07T05:47:18.544604700Z"
    }
   },
   "id": "37ca916a9afb839c",
   "execution_count": 42
  },
  {
   "cell_type": "code",
   "outputs": [
    {
     "ename": "ModuleNotFoundError",
     "evalue": "No module named 'distutils'",
     "output_type": "error",
     "traceback": [
      "\u001B[1;31m---------------------------------------------------------------------------\u001B[0m",
      "\u001B[1;31mModuleNotFoundError\u001B[0m                       Traceback (most recent call last)",
      "Cell \u001B[1;32mIn[43], line 2\u001B[0m\n\u001B[0;32m      1\u001B[0m \u001B[38;5;66;03m# Plotting Residuals\u001B[39;00m\n\u001B[1;32m----> 2\u001B[0m \u001B[38;5;28;01mfrom\u001B[39;00m \u001B[38;5;21;01myellowbrick\u001B[39;00m\u001B[38;5;21;01m.\u001B[39;00m\u001B[38;5;21;01mregressor\u001B[39;00m \u001B[38;5;28;01mimport\u001B[39;00m ResidualsPlot\n\u001B[0;32m      3\u001B[0m visualizer \u001B[38;5;241m=\u001B[39m ResidualsPlot(price_rf)\n\u001B[0;32m      4\u001B[0m visualizer\u001B[38;5;241m.\u001B[39mfit(X_train, y_train)\n",
      "File \u001B[1;32m~\\AppData\\Local\\Programs\\Python\\Python312\\Lib\\site-packages\\yellowbrick\\__init__.py:31\u001B[0m\n\u001B[0;32m     28\u001B[0m \u001B[38;5;28;01mfrom\u001B[39;00m \u001B[38;5;21;01m.\u001B[39;00m\u001B[38;5;21;01mversion\u001B[39;00m \u001B[38;5;28;01mimport\u001B[39;00m get_version, __version_info__\n\u001B[0;32m     30\u001B[0m \u001B[38;5;66;03m# Import the style management functions\u001B[39;00m\n\u001B[1;32m---> 31\u001B[0m \u001B[38;5;28;01mfrom\u001B[39;00m \u001B[38;5;21;01m.\u001B[39;00m\u001B[38;5;21;01mstyle\u001B[39;00m\u001B[38;5;21;01m.\u001B[39;00m\u001B[38;5;21;01mrcmod\u001B[39;00m \u001B[38;5;28;01mimport\u001B[39;00m reset_defaults, reset_orig\n\u001B[0;32m     32\u001B[0m \u001B[38;5;28;01mfrom\u001B[39;00m \u001B[38;5;21;01m.\u001B[39;00m\u001B[38;5;21;01mstyle\u001B[39;00m\u001B[38;5;21;01m.\u001B[39;00m\u001B[38;5;21;01mrcmod\u001B[39;00m \u001B[38;5;28;01mimport\u001B[39;00m set_aesthetic, set_style, set_palette\n\u001B[0;32m     33\u001B[0m \u001B[38;5;28;01mfrom\u001B[39;00m \u001B[38;5;21;01m.\u001B[39;00m\u001B[38;5;21;01mstyle\u001B[39;00m\u001B[38;5;21;01m.\u001B[39;00m\u001B[38;5;21;01mpalettes\u001B[39;00m \u001B[38;5;28;01mimport\u001B[39;00m color_palette, set_color_codes\n",
      "File \u001B[1;32m~\\AppData\\Local\\Programs\\Python\\Python312\\Lib\\site-packages\\yellowbrick\\style\\__init__.py:20\u001B[0m\n\u001B[0;32m     12\u001B[0m \u001B[38;5;124;03m\"\"\"\u001B[39;00m\n\u001B[0;32m     13\u001B[0m \u001B[38;5;124;03mManage the style and aesthetic of the yellowbrick library.\u001B[39;00m\n\u001B[0;32m     14\u001B[0m \u001B[38;5;124;03m\"\"\"\u001B[39;00m\n\u001B[0;32m     16\u001B[0m \u001B[38;5;66;03m##########################################################################\u001B[39;00m\n\u001B[0;32m     17\u001B[0m \u001B[38;5;66;03m## Imports\u001B[39;00m\n\u001B[0;32m     18\u001B[0m \u001B[38;5;66;03m##########################################################################\u001B[39;00m\n\u001B[1;32m---> 20\u001B[0m \u001B[38;5;28;01mfrom\u001B[39;00m \u001B[38;5;21;01m.\u001B[39;00m\u001B[38;5;21;01mcolors\u001B[39;00m \u001B[38;5;28;01mimport\u001B[39;00m \u001B[38;5;241m*\u001B[39m\n\u001B[0;32m     21\u001B[0m \u001B[38;5;28;01mfrom\u001B[39;00m \u001B[38;5;21;01m.\u001B[39;00m\u001B[38;5;21;01mpalettes\u001B[39;00m \u001B[38;5;28;01mimport\u001B[39;00m \u001B[38;5;241m*\u001B[39m\n\u001B[0;32m     22\u001B[0m \u001B[38;5;28;01mfrom\u001B[39;00m \u001B[38;5;21;01m.\u001B[39;00m\u001B[38;5;21;01mrcmod\u001B[39;00m \u001B[38;5;28;01mimport\u001B[39;00m \u001B[38;5;241m*\u001B[39m\n",
      "File \u001B[1;32m~\\AppData\\Local\\Programs\\Python\\Python312\\Lib\\site-packages\\yellowbrick\\style\\colors.py:33\u001B[0m\n\u001B[0;32m     29\u001B[0m \u001B[38;5;28;01mfrom\u001B[39;00m \u001B[38;5;21;01myellowbrick\u001B[39;00m\u001B[38;5;21;01m.\u001B[39;00m\u001B[38;5;21;01mexceptions\u001B[39;00m \u001B[38;5;28;01mimport\u001B[39;00m YellowbrickValueError\n\u001B[0;32m     32\u001B[0m \u001B[38;5;66;03m# Check to see if matplotlib is at least sorta up to date\u001B[39;00m\n\u001B[1;32m---> 33\u001B[0m \u001B[38;5;28;01mfrom\u001B[39;00m \u001B[38;5;21;01mdistutils\u001B[39;00m\u001B[38;5;21;01m.\u001B[39;00m\u001B[38;5;21;01mversion\u001B[39;00m \u001B[38;5;28;01mimport\u001B[39;00m LooseVersion\n\u001B[0;32m     35\u001B[0m mpl_ge_150 \u001B[38;5;241m=\u001B[39m LooseVersion(mpl\u001B[38;5;241m.\u001B[39m__version__) \u001B[38;5;241m>\u001B[39m\u001B[38;5;241m=\u001B[39m \u001B[38;5;124m\"\u001B[39m\u001B[38;5;124m1.5.0\u001B[39m\u001B[38;5;124m\"\u001B[39m\n\u001B[0;32m     38\u001B[0m \u001B[38;5;66;03m##########################################################################\u001B[39;00m\n\u001B[0;32m     39\u001B[0m \u001B[38;5;66;03m## Color Utilities\u001B[39;00m\n\u001B[0;32m     40\u001B[0m \u001B[38;5;66;03m##########################################################################\u001B[39;00m\n",
      "\u001B[1;31mModuleNotFoundError\u001B[0m: No module named 'distutils'"
     ]
    }
   ],
   "source": [
    "# Plotting Residuals\n",
    "from yellowbrick.regressor import ResidualsPlot\n",
    "visualizer = ResidualsPlot(price_rf)\n",
    "visualizer.fit(X_train, y_train)\n",
    "visualizer.score(X_test, y_test)\n",
    "visualizer.poof()"
   ],
   "metadata": {
    "collapsed": false,
    "ExecuteTime": {
     "end_time": "2024-01-07T05:47:21.316041900Z",
     "start_time": "2024-01-07T05:47:21.281377200Z"
    }
   },
   "id": "abc19953a9691dcf",
   "execution_count": 43
  },
  {
   "cell_type": "code",
   "outputs": [],
   "source": [
    "# The k-fold CV\n",
    "from sklearn.model_selection import cross_val_score"
   ],
   "metadata": {
    "collapsed": false,
    "ExecuteTime": {
     "end_time": "2024-01-07T05:47:22.659218400Z",
     "start_time": "2024-01-07T05:47:22.658714800Z"
    }
   },
   "id": "7a0ecc9f18b809f2",
   "execution_count": 44
  },
  {
   "cell_type": "code",
   "outputs": [],
   "source": [
    "seed = 5 #set to fixed value to check same result"
   ],
   "metadata": {
    "collapsed": false,
    "ExecuteTime": {
     "end_time": "2024-01-07T05:47:26.910483700Z",
     "start_time": "2024-01-07T05:47:26.910483700Z"
    }
   },
   "id": "33dee6dc6d1a8302",
   "execution_count": 45
  },
  {
   "cell_type": "code",
   "outputs": [],
   "source": [
    "# Training model CV\n",
    "score_train = cross_val_score(price_rf, X_train, y_train, scoring='neg_mean_squared_error', cv = 10)"
   ],
   "metadata": {
    "collapsed": false,
    "ExecuteTime": {
     "end_time": "2024-01-07T05:49:52.337999900Z",
     "start_time": "2024-01-07T05:47:28.160059300Z"
    }
   },
   "id": "7822bb3722df9cf9",
   "execution_count": 46
  },
  {
   "cell_type": "code",
   "outputs": [
    {
     "data": {
      "text/plain": "array([-2.38210233e+07, -1.10450688e+07, -1.16963852e+07, -2.48172672e+07,\n       -1.10201686e+08, -1.35256633e+07, -7.26873232e+07, -7.69794056e+07,\n       -5.93371646e+07, -1.79077012e+07])"
     },
     "execution_count": 47,
     "metadata": {},
     "output_type": "execute_result"
    }
   ],
   "source": [
    "score_train"
   ],
   "metadata": {
    "collapsed": false,
    "ExecuteTime": {
     "end_time": "2024-01-07T05:49:52.346382600Z",
     "start_time": "2024-01-07T05:49:52.343045500Z"
    }
   },
   "id": "82d52d5c0ea02406",
   "execution_count": 47
  },
  {
   "cell_type": "code",
   "outputs": [
    {
     "name": "stdout",
     "output_type": "stream",
     "text": [
      "-42201868.88292886\n"
     ]
    }
   ],
   "source": [
    "# The mean score\n",
    "print(score_train.mean())"
   ],
   "metadata": {
    "collapsed": false,
    "ExecuteTime": {
     "end_time": "2024-01-07T05:49:52.350035900Z",
     "start_time": "2024-01-07T05:49:52.344567200Z"
    }
   },
   "id": "b385b3ff234cc954",
   "execution_count": 48
  },
  {
   "cell_type": "code",
   "outputs": [
    {
     "name": "stdout",
     "output_type": "stream",
     "text": [
      "42201868.88292886\n"
     ]
    }
   ],
   "source": [
    "# The absolute mean score\n",
    "print(abs(score_train.mean()))"
   ],
   "metadata": {
    "collapsed": false,
    "ExecuteTime": {
     "end_time": "2024-01-07T05:49:52.352550500Z",
     "start_time": "2024-01-07T05:49:52.346890400Z"
    }
   },
   "id": "4af82747032d17aa",
   "execution_count": 49
  },
  {
   "cell_type": "code",
   "outputs": [],
   "source": [
    "# The testing model CV\n",
    "score_test = cross_val_score(price_rf, X_test, y_test, scoring='neg_mean_squared_error', cv = 10)"
   ],
   "metadata": {
    "collapsed": false,
    "is_executing": true,
    "ExecuteTime": {
     "start_time": "2024-01-07T05:49:52.352550500Z"
    }
   },
   "id": "7a8873f410ca9838",
   "execution_count": null
  },
  {
   "cell_type": "code",
   "outputs": [],
   "source": [
    "score_test"
   ],
   "metadata": {
    "collapsed": false,
    "is_executing": true
   },
   "id": "742f978f8d0efe0f",
   "execution_count": null
  },
  {
   "cell_type": "code",
   "outputs": [],
   "source": [
    "# The mean score\n",
    "print(score_train.mean())"
   ],
   "metadata": {
    "collapsed": false,
    "is_executing": true
   },
   "id": "8bb2a9fb05362be3",
   "execution_count": null
  },
  {
   "cell_type": "code",
   "outputs": [],
   "source": [
    "# The absolute mean score\n",
    "print(abs(score_train.mean()))"
   ],
   "metadata": {
    "collapsed": false,
    "is_executing": true
   },
   "id": "1e4ee4176459489a",
   "execution_count": null
  },
  {
   "cell_type": "code",
   "outputs": [],
   "source": [
    "# Random Forest Feature Ranking\n",
    "from sklearn.pipeline import Pipeline"
   ],
   "metadata": {
    "collapsed": false,
    "is_executing": true
   },
   "id": "f5362efbd3b5486c",
   "execution_count": null
  },
  {
   "cell_type": "code",
   "outputs": [],
   "source": [
    "f_list = list(X.columns)\n",
    "f_importance = pd.Series(price_rf.feature_importances_, index = f_list).sort_values(ascending=False)"
   ],
   "metadata": {
    "collapsed": false,
    "is_executing": true
   },
   "id": "4451c333f1c87ffb",
   "execution_count": null
  },
  {
   "cell_type": "code",
   "outputs": [],
   "source": [
    "print(f_importance)"
   ],
   "metadata": {
    "collapsed": false,
    "is_executing": true
   },
   "id": "a41b982becf207c2",
   "execution_count": null
  },
  {
   "cell_type": "code",
   "execution_count": null,
   "id": "initial_id",
   "metadata": {
    "collapsed": true,
    "jupyter": {
     "outputs_hidden": true
    },
    "is_executing": true
   },
   "outputs": [],
   "source": [
    "\n",
    "# Data preprocessing\n",
    "# You may need to perform additional data preprocessing steps based on your dataset\n",
    "\n",
    "# Split the dataset into features and target variable\n",
    "X = data.drop('preco', axis=1)  # Features\n",
    "y = data['preco']  # Target variable\n",
    "\n",
    "# Initialize the Random Forest model\n",
    "model = RandomForestRegressor(n_estimators=100, random_state=42)  # You can adjust hyperparameters\n",
    "\n",
    "# Fit the model\n",
    "model.fit(X, y)\n",
    "\n",
    "# Use the trained model to predict prices for just_features dataset\n",
    "predicted_prices = model.predict(just_features)\n",
    "\n",
    "# Create a DataFrame with predicted prices and IDs\n",
    "predicted_df = pd.DataFrame({'id': just_features['id'], 'preco': predicted_prices})\n",
    "\n",
    "# Save the predicted prices to a CSV file\n",
    "predicted_df.to_csv('precos_estimados.csv', index=False)\n",
    "\n",
    "# Evaluate the model (optional)\n",
    "# Split the data for evaluation (if needed)\n",
    "X_train, X_test, y_train, y_test = train_test_split(X, y, test_size=0.2, random_state=42)\n",
    "y_pred = model.predict(X_test)\n",
    "r2 = r2_score(y_test, y_pred)\n",
    "print(f'R2 Score: {r2}')\n"
   ]
  },
  {
   "cell_type": "code",
   "execution_count": null,
   "id": "cc8d3ff60cc2a737",
   "metadata": {
    "collapsed": false,
    "is_executing": true
   },
   "outputs": [],
   "source": []
  },
  {
   "cell_type": "code",
   "execution_count": null,
   "outputs": [],
   "source": [],
   "metadata": {
    "collapsed": false
   },
   "id": "e30faef1c25d393f"
  }
 ],
 "metadata": {
  "kernelspec": {
   "display_name": "Python 3 (ipykernel)",
   "language": "python",
   "name": "python3"
  },
  "language_info": {
   "codemirror_mode": {
    "name": "ipython",
    "version": 3
   },
   "file_extension": ".py",
   "mimetype": "text/x-python",
   "name": "python",
   "nbconvert_exporter": "python",
   "pygments_lexer": "ipython3",
   "version": "3.10.12"
  }
 },
 "nbformat": 4,
 "nbformat_minor": 5
}
